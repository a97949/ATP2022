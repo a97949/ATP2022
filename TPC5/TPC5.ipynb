{
 "cells": [
  {
   "cell_type": "markdown",
   "id": "1e545158",
   "metadata": {},
   "source": [
    "# Aula Prática 5 (guião)\n",
    "### Semana de 17 a 21 de Outubro de 2022\n",
    "### José Carlos Ramalho e Luís Cunha\n",
    "### Sinopsis:\n",
    "Algoritmos e modelação de problemas com armazenamento em memória secundária."
   ]
  },
  {
   "cell_type": "markdown",
   "id": "1d9c2fbc",
   "metadata": {},
   "source": [
    "### Exercício 1: Polinómios\n",
    "\n",
    "Neste exercício, desenvolva as seguintes alíneas:"
   ]
  },
  {
   "cell_type": "markdown",
   "id": "8ef1ac42",
   "metadata": {},
   "source": [
    "#### a) Pense num modelo para polinómios e instancia os seguintes exemplos:\n",
    "\n",
    "* `x`\n",
    "* `2x + 1`\n",
    "* `7x^5 + 6x^3 - 2x^2 + 27`"
   ]
  },
  {
   "cell_type": "code",
   "execution_count": 20,
   "id": "f45c454f",
   "metadata": {},
   "outputs": [
    {
     "data": {
      "text/plain": [
       "291"
      ]
     },
     "execution_count": 20,
     "metadata": {},
     "output_type": "execute_result"
    }
   ],
   "source": [
    "7*32+6*8-2*4+27"
   ]
  },
  {
   "cell_type": "code",
   "execution_count": 25,
   "id": "b4c93aa3",
   "metadata": {},
   "outputs": [],
   "source": [
    "polinomio1 = [(1,1)]\n",
    "\n",
    "polinomio2 = [(2,1),(1,0)]\n",
    "\n",
    "polinomio3 = [(7,5),(6,3),(-2,2),(27,0)]\n"
   ]
  },
  {
   "cell_type": "code",
   "execution_count": 13,
   "id": "854085f7",
   "metadata": {},
   "outputs": [],
   "source": [
    "# Solução de 1.a)\n"
   ]
  },
  {
   "cell_type": "markdown",
   "id": "fdc3ff66",
   "metadata": {},
   "source": [
    "#### b) Defina uma função, ou funções, que pede ao utilizador a informação necessária para criar um polinómio, cria esse polinómio e devolve-o como resultado"
   ]
  },
  {
   "cell_type": "code",
   "execution_count": 4,
   "id": "ea53c00c",
   "metadata": {},
   "outputs": [
    {
     "data": {
      "text/plain": [
       "'Ola, eu sou o Joao'"
      ]
     },
     "execution_count": 4,
     "metadata": {},
     "output_type": "execute_result"
    }
   ],
   "source": [
    "x = \"Joao\"\n",
    "\"Ola, eu sou o \" + x"
   ]
  },
  {
   "cell_type": "code",
   "execution_count": 12,
   "id": "fb44546a",
   "metadata": {},
   "outputs": [],
   "source": [
    "# Solução de 1.b)\n",
    "def criaPolIn():\n",
    "    grau = int(input(\"Introduza o grau do polinomio:\"))\n",
    "    lista = []\n",
    "\n",
    "    while grau >= 0:\n",
    "        coe = int(input(\"Introduza o coeficiente correspondente ao grau: \" + str(grau)))\n",
    "        if coe != 0:\n",
    "            monomio = (coe,grau)\n",
    "            lista.append(monomio)    \n",
    "        grau = grau - 1\n",
    "    return lista"
   ]
  },
  {
   "cell_type": "code",
   "execution_count": 10,
   "id": "72503c0d",
   "metadata": {},
   "outputs": [
    {
     "name": "stdout",
     "output_type": "stream",
     "text": [
      "[(4, 2), (5, 1), (7, 0)]\n"
     ]
    }
   ],
   "source": [
    "polinomio4 = criaPolIn()\n",
    "print(polinomio4)"
   ]
  },
  {
   "cell_type": "code",
   "execution_count": 13,
   "id": "8bd7d750",
   "metadata": {},
   "outputs": [
    {
     "name": "stdout",
     "output_type": "stream",
     "text": [
      "[(2, 3), (4, 2), (7, 0)]\n"
     ]
    }
   ],
   "source": [
    "polinomio4 = criaPolIn()\n",
    "print(polinomio4)"
   ]
  },
  {
   "cell_type": "markdown",
   "id": "9d3475e4",
   "metadata": {},
   "source": [
    "#### c) Defina uma função que calcula o valor do polinómio dado um valor de `x`"
   ]
  },
  {
   "cell_type": "code",
   "execution_count": 15,
   "id": "c4c8dc32",
   "metadata": {},
   "outputs": [],
   "source": [
    "# Solução de 1.c)\n",
    "\n",
    "def pot(b,e):\n",
    "    res = 1\n",
    "    while e > 0:\n",
    "        res = b * res\n",
    "        e = e - 1\n",
    "    return res\n",
    "\n",
    "def calcPolinomio(p, x):\n",
    "    res = 0\n",
    "    for termo in p:\n",
    "        coe, grau = termo\n",
    "        res = coe * pot(x,grau) + res\n",
    "    return res"
   ]
  },
  {
   "cell_type": "code",
   "execution_count": 26,
   "id": "678881f3",
   "metadata": {},
   "outputs": [
    {
     "data": {
      "text/plain": [
       "15"
      ]
     },
     "execution_count": 26,
     "metadata": {},
     "output_type": "execute_result"
    }
   ],
   "source": [
    "calcPolinomio(polinomio2,7)"
   ]
  },
  {
   "cell_type": "code",
   "execution_count": 27,
   "id": "0c04f3e5",
   "metadata": {},
   "outputs": [
    {
     "data": {
      "text/plain": [
       "291"
      ]
     },
     "execution_count": 27,
     "metadata": {},
     "output_type": "execute_result"
    }
   ],
   "source": [
    "calcPolinomio(polinomio3,2)"
   ]
  },
  {
   "cell_type": "code",
   "execution_count": 28,
   "id": "2d70e8ef",
   "metadata": {},
   "outputs": [
    {
     "name": "stdout",
     "output_type": "stream",
     "text": [
      "-10 -19\n",
      "-9 -17\n",
      "-8 -15\n",
      "-7 -13\n",
      "-6 -11\n",
      "-5 -9\n",
      "-4 -7\n",
      "-3 -5\n",
      "-2 -3\n",
      "-1 -1\n",
      "0 1\n",
      "1 3\n",
      "2 5\n",
      "3 7\n",
      "4 9\n",
      "5 11\n",
      "6 13\n",
      "7 15\n",
      "8 17\n",
      "9 19\n"
     ]
    }
   ],
   "source": [
    "for i in range(-10,10):\n",
    "    print(i,calcPolinomio(polinomio2,i))"
   ]
  },
  {
   "cell_type": "markdown",
   "id": "5fa6de75",
   "metadata": {},
   "source": [
    "#### d) Defina uma função que imprima no monitor o polinómio"
   ]
  },
  {
   "cell_type": "code",
   "execution_count": 39,
   "id": "b0716c72",
   "metadata": {},
   "outputs": [],
   "source": [
    "# Solução de 1.d)\n",
    "def verPolinomio(p):\n",
    "    for termo in p:\n",
    "        coe, grau = termo\n",
    "        if grau != 0:\n",
    "            print(\" + \",coe,\"x^\",grau, sep=\"\",end=\"\")\n",
    "        else:\n",
    "            print(\" + \",coe, sep=\"\")\n",
    "    return"
   ]
  },
  {
   "cell_type": "code",
   "execution_count": 40,
   "id": "e691216d",
   "metadata": {},
   "outputs": [
    {
     "name": "stdout",
     "output_type": "stream",
     "text": [
      " + 7x^5 + 6x^3 + -2x^2 + 27\n"
     ]
    }
   ],
   "source": [
    "verPolinomio(polinomio3)"
   ]
  },
  {
   "cell_type": "code",
   "execution_count": 45,
   "id": "874f6c4a",
   "metadata": {},
   "outputs": [
    {
     "name": "stdout",
     "output_type": "stream",
     "text": [
      " + 7x^5 + 6x^3 + -2x^2 + 27\n"
     ]
    }
   ],
   "source": [
    "verPolinomio(polinomio3)"
   ]
  },
  {
   "cell_type": "markdown",
   "id": "beb31acc",
   "metadata": {},
   "source": [
    "#### e) Defina uma função que calcula o grau de um polinómio dado"
   ]
  },
  {
   "cell_type": "code",
   "execution_count": 30,
   "id": "09816d6e",
   "metadata": {},
   "outputs": [],
   "source": [
    "# Solução de 1.e)\n",
    "def grauPolinomio(p):\n",
    "\n",
    "    return max"
   ]
  },
  {
   "cell_type": "code",
   "execution_count": 31,
   "id": "34a9ad52",
   "metadata": {},
   "outputs": [
    {
     "name": "stdout",
     "output_type": "stream",
     "text": [
      "2 [(3, 3), (2, 2), (3, 0)]\n",
      "3\n"
     ]
    }
   ],
   "source": []
  },
  {
   "cell_type": "markdown",
   "id": "0cfe33d8",
   "metadata": {},
   "source": [
    "#### f) Defina uma função que imprime no monitor uma tabela com n linhas: x | p(x)"
   ]
  },
  {
   "cell_type": "code",
   "execution_count": 43,
   "id": "3619f63c",
   "metadata": {},
   "outputs": [],
   "source": [
    "# Solução de 1.f)\n",
    "def tabela(p, linhas):\n",
    "    for i in range(linhas):\n",
    "        print(i,\"|\",calcPolinomio(p,i))\n",
    "    return\n",
    "\n"
   ]
  },
  {
   "cell_type": "code",
   "execution_count": 44,
   "id": "c8a9ed1f",
   "metadata": {},
   "outputs": [
    {
     "name": "stdout",
     "output_type": "stream",
     "text": [
      "0 | 27\n",
      "1 | 38\n",
      "2 | 291\n",
      "3 | 1872\n",
      "4 | 7547\n",
      "5 | 22602\n",
      "6 | 55683\n",
      "7 | 119636\n",
      "8 | 232347\n",
      "9 | 417582\n"
     ]
    }
   ],
   "source": [
    "tabela(polinomio3,10)"
   ]
  },
  {
   "cell_type": "markdown",
   "id": "df16478c",
   "metadata": {},
   "source": [
    "#### g) Define uma função que dado um polinómio calcula a sua derivada"
   ]
  },
  {
   "cell_type": "code",
   "execution_count": null,
   "id": "6bd99681",
   "metadata": {},
   "outputs": [],
   "source": [
    "# Solução de 1.g)\n",
    "def derivarPolinomio(p):\n",
    "\n",
    "    return"
   ]
  },
  {
   "cell_type": "markdown",
   "id": "a582ac17",
   "metadata": {},
   "source": [
    "#### h) Defina uma função para guardar uma lista de polinómios num ficheiro"
   ]
  },
  {
   "cell_type": "code",
   "execution_count": 48,
   "id": "7164f9d1",
   "metadata": {},
   "outputs": [],
   "source": [
    "filename = \"ficheiro\"\n",
    "file = open(filename,\"w\")\n",
    "file.write(\"Hello World!\")\n",
    "file.close()\n",
    "\n"
   ]
  },
  {
   "cell_type": "code",
   "execution_count": 51,
   "id": "426b691f",
   "metadata": {},
   "outputs": [
    {
     "name": "stdout",
     "output_type": "stream",
     "text": [
      "Hello World!\n",
      "\n",
      "Bom dia\n",
      "\n",
      "Boa noite\n"
     ]
    }
   ],
   "source": [
    "filename = \"ficheiro.txt\"\n",
    "file2 = open(filename,\"r\")\n",
    "for linha in file2:\n",
    "    print(linha)\n"
   ]
  },
  {
   "cell_type": "code",
   "execution_count": 59,
   "id": "0a3feefc",
   "metadata": {},
   "outputs": [
    {
     "data": {
      "text/plain": [
       "1"
      ]
     },
     "execution_count": 59,
     "metadata": {},
     "output_type": "execute_result"
    }
   ],
   "source": [
    "len(file2.readlines())"
   ]
  },
  {
   "cell_type": "code",
   "execution_count": null,
   "id": "8986e8d7",
   "metadata": {},
   "outputs": [],
   "source": []
  },
  {
   "cell_type": "code",
   "execution_count": 63,
   "id": "2b3f58dd",
   "metadata": {},
   "outputs": [],
   "source": [
    "# Solução de 1.h)\n",
    "def guardarPolinomios(listap, fnome):\n",
    "    file = open(fnome,\"w\")\n",
    "    for p in listap:\n",
    "        for termo in p:\n",
    "            coe, grau = termo\n",
    "            file.write(str(coe)+\"#\"+str(grau)+\";\")\n",
    "        file.write(\"\\n\")\n",
    "    file.close()\n",
    "    return"
   ]
  },
  {
   "cell_type": "code",
   "execution_count": 64,
   "id": "e3d575d7",
   "metadata": {},
   "outputs": [],
   "source": [
    "guardarPolinomios([polinomio1,polinomio2,polinomio3,polinomio4],\"polinomios_2\")"
   ]
  },
  {
   "cell_type": "markdown",
   "id": "7f7d1410",
   "metadata": {},
   "source": [
    "#### i) Defina uma função para recuperar um polinómio dum ficheiro"
   ]
  },
  {
   "cell_type": "code",
   "execution_count": 90,
   "id": "72081c41",
   "metadata": {},
   "outputs": [],
   "source": [
    "# Solução de 1.i)\n",
    "def recuperarPolinomios(fnome):\n",
    "    file2 = open(fnome,\"r\")\n",
    "    grandeLista = []\n",
    "    for linha in file2:\n",
    "        polinomio = []\n",
    "        termos = linha.split(\";\")\n",
    "        for t in termos:\n",
    "            elems = t.split(\"#\")\n",
    "            if len(elems) == 2:\n",
    "                coe = elems[0]\n",
    "                grau = elems[1]\n",
    "                termo = (coe,grau)\n",
    "                polinomio.append(termo)\n",
    "        grandeLista.append(polinomio)\n",
    "    file2.close()\n",
    "    return grandeLista"
   ]
  },
  {
   "cell_type": "code",
   "execution_count": 91,
   "id": "3a0acdf8",
   "metadata": {},
   "outputs": [
    {
     "name": "stdout",
     "output_type": "stream",
     "text": [
      "[[('1', '1')], [('2', '1'), ('1', '0')], [('7', '5'), ('6', '3'), ('-2', '2'), ('27', '0')], [('2', '3'), ('4', '2'), ('7', '0')]]\n"
     ]
    }
   ],
   "source": [
    "listaPol2 = recuperarPolinomios(\"polinomios_2\")\n",
    "print(listaPol2)"
   ]
  },
  {
   "cell_type": "markdown",
   "id": "fed2fbc4",
   "metadata": {},
   "source": [
    "#### j) Baseando-se nas funções até agora criadas, crie novas funções para manipular listas de polinómios: criar, ver, guardar e recuperar"
   ]
  },
  {
   "cell_type": "code",
   "execution_count": null,
   "id": "986c8587",
   "metadata": {},
   "outputs": [],
   "source": [
    "# Solução de 1.j)\n",
    "# ..."
   ]
  },
  {
   "cell_type": "markdown",
   "id": "6bea73df",
   "metadata": {},
   "source": [
    "#### k) Junte todas as funções num módulo, `polinomios.py`, e usa-o num pequeno programa exemplo"
   ]
  },
  {
   "cell_type": "code",
   "execution_count": null,
   "id": "82a2401b",
   "metadata": {},
   "outputs": [],
   "source": [
    "# Solução de 1.k)"
   ]
  },
  {
   "cell_type": "markdown",
   "id": "4193a91b",
   "metadata": {},
   "source": [
    "\n",
    "### TPC5: Análise de dados: doença cardíaca\n",
    "\n",
    "Descarregue o ficheiro de dados: `myheart.csv`\n",
    "Crie um programa em Python, conjunto de funções, que responda às seguintes questões:\n",
    "* Crie uma função que lê a informação do ficheiro para um modelo, previamente pensado em memória;\n",
    "* Crie uma função que calcula a distribuição da doença por sexo;\n",
    "* Crie uma função que calcula a distribuição da doença por escalões etários. Considere os seguintes escalões: [30-34], [35-39], [40-44], ...\n",
    "* Crie uma função que calcula a distribuição da doença por níveis de colesterol. Considere um nível igual a um intervalo de 10 unidades, comece no limite inferior e crie os níveis necessários até abranger o limite superior;\n",
    "* Crie uma função que imprime na forma de uma tabela uma distribuição;\n",
    "* Especifique um programa que ao executar apresenta as tabelas correspondentes às distribuições pedidas."
   ]
  },
  {
   "cell_type": "code",
   "execution_count": 1,
   "id": "d87bb483",
   "metadata": {},
   "outputs": [
    {
     "name": "stdout",
     "output_type": "stream",
     "text": [
      "Sexo  | Nº de Doentes\n",
      "M | 428\n",
      "F | 40\n",
      "\n",
      "\n",
      "Idade | Nº de Doentes\n",
      "[30, 35] | 6\n",
      "[35, 40] | 19\n",
      "[40, 45] | 27\n",
      "[45, 50] | 51\n",
      "[50, 55] | 83\n",
      "[55, 60] | 114\n",
      "[60, 65] | 101\n",
      "[65, 70] | 45\n",
      "[70, 75] | 17\n",
      "[75, 80] | 5\n",
      "[80, 85] | 0\n",
      "\n",
      "\n",
      "Colesterol | Nº de Doentes\n",
      "[0, 10] | 152\n",
      "[10, 20] | 0\n",
      "[20, 30] | 0\n",
      "[30, 40] | 0\n",
      "[40, 50] | 0\n",
      "[50, 60] | 0\n",
      "[60, 70] | 0\n",
      "[70, 80] | 0\n",
      "[80, 90] | 0\n",
      "[90, 100] | 0\n",
      "[100, 110] | 1\n",
      "[110, 120] | 3\n",
      "[120, 130] | 2\n",
      "[130, 140] | 1\n",
      "[140, 150] | 2\n",
      "[150, 160] | 3\n",
      "[160, 170] | 6\n",
      "[170, 180] | 10\n",
      "[180, 190] | 8\n",
      "[190, 200] | 11\n",
      "[200, 210] | 19\n",
      "[210, 220] | 29\n",
      "[220, 230] | 24\n",
      "[230, 240] | 25\n",
      "[240, 250] | 21\n",
      "[250, 260] | 18\n",
      "[260, 270] | 24\n",
      "[270, 280] | 18\n",
      "[280, 290] | 26\n",
      "[290, 300] | 14\n",
      "[300, 310] | 12\n",
      "[310, 320] | 8\n",
      "[320, 330] | 4\n",
      "[330, 340] | 8\n",
      "[340, 350] | 5\n",
      "[350, 360] | 1\n",
      "[360, 370] | 1\n",
      "[370, 380] | 0\n",
      "[380, 390] | 2\n",
      "[390, 400] | 2\n",
      "[400, 410] | 3\n",
      "[410, 420] | 0\n",
      "[420, 430] | 0\n",
      "[430, 440] | 0\n",
      "[440, 450] | 0\n",
      "[450, 460] | 0\n",
      "[460, 470] | 1\n",
      "[470, 480] | 0\n",
      "[480, 490] | 0\n",
      "[490, 500] | 1\n",
      "[500, 510] | 0\n",
      "[510, 520] | 1\n",
      "[520, 530] | 1\n",
      "[530, 540] | 0\n",
      "\n",
      "\n"
     ]
    }
   ],
   "source": [
    "def ler(file):\n",
    "    f=open(str(file),\"r\")\n",
    "    lista=[]\n",
    "\n",
    "    for line in f:     \n",
    "        paciente=line[:-1].split(\",\")\n",
    "        lista.append(paciente)\n",
    "    f.close\n",
    "    return lista\n",
    "\n",
    "def sexo(list):\n",
    "    m=0\n",
    "    f=0\n",
    "    for p in list:\n",
    "        if p[-1]==\"1\":\n",
    "            if p[1]==\"M\":\n",
    "                m+=1\n",
    "            if p[1]==\"F\":\n",
    "                f+=1\n",
    "    distrib=[(\"M\",m),(\"F\",f)]\n",
    "    return distrib\n",
    "\n",
    "def idade(list):\n",
    "    distrib=[]\n",
    "    e=30\n",
    "    while e<85:\n",
    "        escalão=[e,e+5]\n",
    "        n=0\n",
    "        for p in list:\n",
    "            if p[-1]==\"1\" and escalão[0]<=int(p[0])<escalão[1]:\n",
    "                n+=1\n",
    "        distrib.append((escalão,n))\n",
    "        e+=5\n",
    "    return distrib\n",
    "\n",
    "def colesterol(list):\n",
    "    distrib=[]\n",
    "    e=0\n",
    "    while e<540:\n",
    "        escalão=[e,e+10]\n",
    "        n=0\n",
    "        for p in list:\n",
    "            if p[-1]==\"1\" and escalão[0]<=int(p[3])<escalão[1]:\n",
    "                    n+=1\n",
    "        distrib.append((escalão,n))\n",
    "        e+=10\n",
    "    return distrib\n",
    "\n",
    "def tabela(dados,criterio):\n",
    "    if criterio==sexo:\n",
    "        print(\"Sexo  | Nº de Doentes\")\n",
    "    if criterio==idade:\n",
    "        print(\"Idade | Nº de Doentes\")\n",
    "    if criterio==colesterol:\n",
    "        print(\"Colesterol | Nº de Doentes\")\n",
    "    for i in criterio(dados):\n",
    "        print(i[0],\"|\",i[1])\n",
    "    print(\"\\n\")\n",
    "dados=ler(\"myheart.csv\")\n",
    "\n",
    "tabela(dados,sexo)\n",
    "tabela(dados,idade)\n",
    "tabela(dados,colesterol)"
   ]
  }
 ],
 "metadata": {
  "kernelspec": {
   "display_name": "Python 3.10.7 64-bit",
   "language": "python",
   "name": "python3"
  },
  "language_info": {
   "codemirror_mode": {
    "name": "ipython",
    "version": 3
   },
   "file_extension": ".py",
   "mimetype": "text/x-python",
   "name": "python",
   "nbconvert_exporter": "python",
   "pygments_lexer": "ipython3",
   "version": "3.10.7"
  },
  "vscode": {
   "interpreter": {
    "hash": "aee8b7b246df8f9039afb4144a1f6fd8d2ca17a180786b69acc140d282b71a49"
   }
  }
 },
 "nbformat": 4,
 "nbformat_minor": 5
}
